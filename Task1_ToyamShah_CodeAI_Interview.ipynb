{
  "nbformat": 4,
  "nbformat_minor": 0,
  "metadata": {
    "colab": {
      "provenance": [],
      "include_colab_link": true
    },
    "kernelspec": {
      "name": "python3",
      "display_name": "Python 3"
    },
    "language_info": {
      "name": "python"
    }
  },
  "cells": [
    {
      "cell_type": "markdown",
      "metadata": {
        "id": "view-in-github",
        "colab_type": "text"
      },
      "source": [
        "<a href=\"https://colab.research.google.com/github/Mr-Nobody-exe/ToyamShah_CodeAI_Interview/blob/main/Task1_ToyamShah_CodeAI_Interview.ipynb\" target=\"_parent\"><img src=\"https://colab.research.google.com/assets/colab-badge.svg\" alt=\"Open In Colab\"/></a>"
      ]
    },
    {
      "cell_type": "markdown",
      "source": [
        "# ***FOR DOING THE TASK MAKE THE COPY OF THIS COLLAB FILE IN YOUR DRIVE***"
      ],
      "metadata": {
        "id": "XnP1PxmLWjlC"
      }
    },
    {
      "cell_type": "markdown",
      "source": [
        "### 1. Python Basics & Control Structures\n",
        "\n",
        "*Task*:\n",
        "\n",
        "* Write a Python program that:\n",
        "\n",
        "  * Takes a list of strings (e.g., [\"apple\", \"banana\", \"grape\", \"kiwi\", \"orange\"]).\n",
        "  * Filters out fruits with more than 5 characters using a for loop and if statement.\n",
        "  * For each fruit, print its length.\n",
        "\n",
        "*Example Input*:\n",
        "\n",
        "python\n",
        "fruits = [\"apple\", \"banana\", \"grape\", \"kiwi\", \"orange\"]"
      ],
      "metadata": {
        "id": "RBNeAaOLxbe5"
      }
    },
    {
      "cell_type": "code",
      "execution_count": 6,
      "metadata": {
        "id": "NcI_p7F0vFhz",
        "colab": {
          "base_uri": "https://localhost:8080/"
        },
        "outputId": "820b849c-e15b-4b59-c26e-b6432cf8f357"
      },
      "outputs": [
        {
          "output_type": "stream",
          "name": "stdout",
          "text": [
            "The fruit apple has 5 characters.\n",
            "The fruit banana has 6 characters.\n",
            "The fruit grape has 5 characters.\n",
            "The fruit orange has 6 characters.\n"
          ]
        }
      ],
      "source": [
        "fruits = [\"apple\", \"banana\", \"grape\", \"kiwi\", \"orange\"]\n",
        "\n",
        "\n",
        "for fruit in fruits:\n",
        "  if len(fruit) >= 5:\n",
        "    print(f\"The fruit {fruit} has {len(fruit)} characters.\")"
      ]
    },
    {
      "cell_type": "markdown",
      "source": [
        "\n",
        "*Expected Output*:\n",
        "\n",
        "\n",
        "The fruit apple has 5 characters.\n",
        "\n",
        "The fruit banana has 6 characters.\n",
        "\n",
        "The fruit orange has 6 characters.\n"
      ],
      "metadata": {
        "id": "sQeiBzi9xjIl"
      }
    },
    {
      "cell_type": "markdown",
      "source": [
        "### 2. Functions & Lambda\n",
        "\n",
        "*Task*:\n",
        "\n",
        "* Write a function that takes a list of integers and a threshold value. Use a **lambda* function inside filter() to return a list of numbers greater than the threshold.\n",
        "\n",
        "\n",
        "  # Test the function with a list [1, 5, 10, 3, 8] and threshold 5\n",
        "\n",
        "\n",
        "\n",
        "\n"
      ],
      "metadata": {
        "id": "k12WGkNoyAgY"
      }
    },
    {
      "cell_type": "code",
      "source": [
        "def filter_numbers(numbers, threshold):\n",
        "  return list(filter(lambda x: x > threshold, numbers))\n",
        "\n",
        "numbers = [1, 5, 10, 3, 8]\n",
        "threshold = 5\n",
        "result = filter_numbers(numbers, threshold)\n",
        "print(result)"
      ],
      "metadata": {
        "id": "xSLokk2iy1OQ",
        "colab": {
          "base_uri": "https://localhost:8080/"
        },
        "outputId": "5abe0e81-b4b6-4d14-af7e-d4ed0def156d"
      },
      "execution_count": 7,
      "outputs": [
        {
          "output_type": "stream",
          "name": "stdout",
          "text": [
            "[10, 8]\n"
          ]
        }
      ]
    },
    {
      "cell_type": "markdown",
      "source": [
        "### 3. Object-Oriented Programming (OOP)\n",
        "\n",
        "*Task*:\n",
        "\n",
        "* Implement a BankAccount class with methods for depositing, withdrawing, transferring, and checking balance.\n",
        "* Implement *Polymorphism* by overriding the __str__ method to provide a custom string representation of the account.\n",
        "\n",
        "\n",
        "# Example\n",
        "account_a = BankAccount(\"A123\", \"Alice\", 1000)\n",
        "\n",
        "account_b = BankAccount(\"B456\", \"Bob\", 500)\n",
        "\n",
        "account_a.deposit(200)\n",
        "\n",
        "account_a.transfer(300, account_b)\n"
      ],
      "metadata": {
        "id": "qFz4IBidxuK8"
      }
    },
    {
      "cell_type": "code",
      "source": [
        "class BankAccount:\n",
        "  def __init__(self, acc_id, acc_holder, balance):\n",
        "    self.acc_id = acc_id\n",
        "    self.acc_holder = acc_holder\n",
        "    self.balance = balance\n",
        "\n",
        "  def deposit(self, amount):\n",
        "    if amount > 0:\n",
        "      self.balance += amount\n",
        "      print(f\"{amount} deposited successfully. New balance: {self.balance}\")\n",
        "    else:\n",
        "      print(\"Invalid deposit amount. Amount must be greater than 0.\")\n",
        "\n",
        "  def withdraw(self, amount):\n",
        "    if 0< amount <= self.balance:\n",
        "      self.balance -= amount\n",
        "      print(f\"{amount} withdrawn successfully. New balance: {self.balance}\")\n",
        "    else:\n",
        "      print(\"Insufficient Balance or Invalid Amount\")\n",
        "\n",
        "  def transfer(self, amount, dest_acc):\n",
        "    if 0< amount <= self.balance:\n",
        "        self.balance -= amount\n",
        "        dest_acc.balance += amount\n",
        "        print(f\"{amount} transferred successfully. New balance: {self.balance}\")\n",
        "    else:\n",
        "        print(\"Insufficient Balance or Invalid Amount\")\n",
        "\n",
        "  def check_balance(self):\n",
        "    print(f\"Account ID: {self.acc_id}, Account Holder: {self.acc_holder}, Balance: {self.balance}\")\n",
        "\n",
        "  '''def __str__(self):\n",
        "        return f\"Account ID: {self.acc_id}, Account Holder: {self.acc_holder}, Balance: {self.balance}\"\n",
        "        '''\n",
        "\n",
        "account_a = BankAccount(\"A123\", \"Alice\", 1000)\n",
        "account_b = BankAccount(\"B456\", \"Bob\", 500)\n",
        "account_a.deposit(200)\n",
        "account_a.transfer(300, account_b)\n",
        "account_a.check_balance()\n",
        "account_b.check_balance()\n",
        "print(account_a)\n",
        "print(account_b)"
      ],
      "metadata": {
        "id": "nkl25hP8zWJQ",
        "colab": {
          "base_uri": "https://localhost:8080/"
        },
        "outputId": "d6ff2aa7-3ff9-4b6d-9e17-977c5445c13f"
      },
      "execution_count": 14,
      "outputs": [
        {
          "output_type": "stream",
          "name": "stdout",
          "text": [
            "200 deposited successfully. New balance: 1200\n",
            "300 transferred successfully. New balance: 900\n",
            "Account ID: A123, Account Holder: Alice, Balance: 900\n",
            "Account ID: B456, Account Holder: Bob, Balance: 800\n",
            "<__main__.BankAccount object at 0x799320db5910>\n",
            "<__main__.BankAccount object at 0x79932226ae10>\n"
          ]
        }
      ]
    },
    {
      "cell_type": "markdown",
      "source": [
        "### 4. Exception Handling\n",
        "\n",
        "*Task*:\n",
        "\n",
        "* Write a divide_numbers(a, b) function with exception handling:\n",
        "\n",
        "  * Handle division by zero and invalid input (non-numeric values).\n",
        "\n",
        "\n",
        "# Test the function\n",
        "print(divide_numbers(10, 2))   # Valid input\n",
        "\n",
        "print(divide_numbers(10, 0))   # Division by zero\n",
        "\n",
        "print(divide_numbers(\"ten\", 2))  # Invalid input"
      ],
      "metadata": {
        "id": "R9op0Bt0xttt"
      }
    },
    {
      "cell_type": "code",
      "source": [
        "def divide_numbers(a,b):\n",
        "  try:\n",
        "    result = float(a)/float(b)\n",
        "    return result\n",
        "  except ZeroDivisionError:\n",
        "    return \"Cannot divide by zero\"\n",
        "  except ValueError:\n",
        "    return \"Invalid input, please enter numbers\"\n",
        "\n",
        "print(divide_numbers(10,2))\n",
        "print(divide_numbers(10,0))\n",
        "print(divide_numbers(\"ten\",2))"
      ],
      "metadata": {
        "id": "DEZfXk4V0A8_",
        "colab": {
          "base_uri": "https://localhost:8080/"
        },
        "outputId": "e5226447-d8fa-47ea-89d6-a4e15f39036a"
      },
      "execution_count": 16,
      "outputs": [
        {
          "output_type": "stream",
          "name": "stdout",
          "text": [
            "5.0\n",
            "Cannot divide by zero\n",
            "Invalid input, please enter numbers\n"
          ]
        }
      ]
    },
    {
      "cell_type": "markdown",
      "source": [
        "*Example Expected Output*:\n",
        "\n",
        "\n",
        "5.0\n",
        "\n",
        "Cannot divide by zero\n",
        "\n",
        "Invalid input, please enter numbers"
      ],
      "metadata": {
        "id": "UAfaux4e0LsB"
      }
    },
    {
      "cell_type": "markdown",
      "source": [
        "### 5. Python Modules & File Handling\n",
        "\n",
        "*Task*:\n",
        "\n",
        "* Write a Python program to:\n",
        "\n",
        "  * Create a text file \"students.txt\" with student names and marks.\n",
        "  * Read the file and print names of students with marks above 80.\n",
        "\n",
        "\n",
        "\n",
        "\n"
      ],
      "metadata": {
        "id": "_zo-t7xZ0ayU"
      }
    },
    {
      "cell_type": "code",
      "source": [
        "with open(\"students.txt\", \"w\") as file:\n",
        "  file.write(\"Alice 90\\n\")\n",
        "  file.write(\"Bob 85\\n\")\n",
        "  file.write(\"Charlie 75\\n\")\n",
        "  file.write(\"David 85\\n\")\n",
        "  file.write(\"Eve 65\\n\")\n",
        "\n",
        "print(\"File created successfully.\")\n",
        "\n",
        "with open(\"students.txt\", \"r\") as file:\n",
        "  for line in file:\n",
        "    name, mark = line.strip().split()\n",
        "    if int(mark) > 80:\n",
        "      print(name)"
      ],
      "metadata": {
        "id": "kp3PLXuv0_cU",
        "colab": {
          "base_uri": "https://localhost:8080/"
        },
        "outputId": "ce80abb7-0b87-4971-9f17-d4c3b3205b09"
      },
      "execution_count": 18,
      "outputs": [
        {
          "output_type": "stream",
          "name": "stdout",
          "text": [
            "File created successfully.\n",
            "Alice\n",
            "Bob\n",
            "David\n"
          ]
        }
      ]
    },
    {
      "cell_type": "markdown",
      "source": [
        "\n",
        "*Expected Output*:\n",
        "\n",
        "\n",
        "Alice\n",
        "\n",
        "Bob\n",
        "\n",
        "David\n"
      ],
      "metadata": {
        "id": "BGTgVTJZ0_7b"
      }
    },
    {
      "cell_type": "markdown",
      "source": [
        "### 6. Regular Expressions\n",
        "\n",
        "*Task*:\n",
        "\n",
        "* Write a Python function extract_phone_numbers(text) that extracts all phone numbers from a given text. The phone numbers should be in the format (xxx) xxx-xxxx.\n",
        "\n",
        "\n",
        "sample_text = (\n",
        "    \"For any support regarding our Bangalore office, call us at +91-9876543210 between 9 AM to 6 PM. \"\n",
        "    \"If you are located in Mumbai, you can also reach our helpdesk at 9123456789 for urgent assistance. \"\n",
        "    \"Additionally, our Delhi branch can be contacted at +91-9988776655 during weekdays.\"\n",
        ")\n",
        "\n",
        "\n",
        "\n",
        "\n",
        "*Expected Output*:\n",
        "\n",
        "\n",
        "['+91-9876543210', '+91-9988776655']\n"
      ],
      "metadata": {
        "id": "buuDAsX_2ZEg"
      }
    },
    {
      "cell_type": "code",
      "source": [
        "import re\n",
        "\n",
        "def extract_phone_numbers(text):\n",
        "  pattern = r\"\\+91-\\d{10}\"\n",
        "  return re.findall(pattern, text)\n",
        "\n",
        "sample_text = (\n",
        "    \"For any support regarding our Bangalore office, call us at +91-9876543210 between 9 AM to 6 PM. \"\n",
        "    \"If you are located in Mumbai, you can also reach our helpdesk at 9123456789 for urgent assistance. \"\n",
        "    \"Additionally, our Delhi branch can be contacted at +91-9988776655 during weekdays.\"\n",
        ")\n",
        "\n",
        "print(extract_phone_numbers(sample_text))"
      ],
      "metadata": {
        "id": "Nx0oXsT92Ytu",
        "colab": {
          "base_uri": "https://localhost:8080/"
        },
        "outputId": "1afceb33-ca28-4eb3-ffb7-91109efc6075"
      },
      "execution_count": 19,
      "outputs": [
        {
          "output_type": "stream",
          "name": "stdout",
          "text": [
            "['+91-9876543210', '+91-9988776655']\n"
          ]
        }
      ]
    },
    {
      "cell_type": "markdown",
      "source": [
        "\n",
        "*Expected Output*:\n",
        "\n",
        "\n",
        "['+91-9876543210', '+91-9988776655']"
      ],
      "metadata": {
        "id": "6uPEN50JQ4IP"
      }
    }
  ]
}